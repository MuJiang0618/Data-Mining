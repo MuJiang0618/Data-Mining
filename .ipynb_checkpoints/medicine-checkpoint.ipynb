{
 "cells": [
  {
   "cell_type": "code",
   "execution_count": 1,
   "metadata": {
    "collapsed": true
   },
   "outputs": [],
   "source": [
    "from numpy import *\n",
    "import pandas as pd\n",
    "from pyecharts import *"
   ]
  },
  {
   "cell_type": "code",
   "execution_count": 2,
   "metadata": {},
   "outputs": [
    {
     "data": {
      "text/html": [
       "<div>\n",
       "<style scoped>\n",
       "    .dataframe tbody tr th:only-of-type {\n",
       "        vertical-align: middle;\n",
       "    }\n",
       "\n",
       "    .dataframe tbody tr th {\n",
       "        vertical-align: top;\n",
       "    }\n",
       "\n",
       "    .dataframe thead th {\n",
       "        text-align: right;\n",
       "    }\n",
       "</style>\n",
       "<table border=\"1\" class=\"dataframe\">\n",
       "  <thead>\n",
       "    <tr style=\"text-align: right;\">\n",
       "      <th></th>\n",
       "      <th>肝气郁结证型系数</th>\n",
       "      <th>热毒蕴结证型系数</th>\n",
       "      <th>冲任失调证型系数</th>\n",
       "      <th>气血两虚证型系数</th>\n",
       "      <th>脾胃虚弱证型系数</th>\n",
       "      <th>肝肾阴虚证型系数</th>\n",
       "      <th>TNM分期</th>\n",
       "    </tr>\n",
       "  </thead>\n",
       "  <tbody>\n",
       "    <tr>\n",
       "      <th>0</th>\n",
       "      <td>0.056</td>\n",
       "      <td>0.460</td>\n",
       "      <td>0.281</td>\n",
       "      <td>0.352</td>\n",
       "      <td>0.119</td>\n",
       "      <td>0.350</td>\n",
       "      <td>H4</td>\n",
       "    </tr>\n",
       "    <tr>\n",
       "      <th>1</th>\n",
       "      <td>0.488</td>\n",
       "      <td>0.099</td>\n",
       "      <td>0.283</td>\n",
       "      <td>0.333</td>\n",
       "      <td>0.116</td>\n",
       "      <td>0.293</td>\n",
       "      <td>H4</td>\n",
       "    </tr>\n",
       "    <tr>\n",
       "      <th>2</th>\n",
       "      <td>0.107</td>\n",
       "      <td>0.008</td>\n",
       "      <td>0.204</td>\n",
       "      <td>0.150</td>\n",
       "      <td>0.032</td>\n",
       "      <td>0.159</td>\n",
       "      <td>H4</td>\n",
       "    </tr>\n",
       "    <tr>\n",
       "      <th>3</th>\n",
       "      <td>0.322</td>\n",
       "      <td>0.208</td>\n",
       "      <td>0.305</td>\n",
       "      <td>0.130</td>\n",
       "      <td>0.184</td>\n",
       "      <td>0.317</td>\n",
       "      <td>H4</td>\n",
       "    </tr>\n",
       "    <tr>\n",
       "      <th>4</th>\n",
       "      <td>0.242</td>\n",
       "      <td>0.280</td>\n",
       "      <td>0.131</td>\n",
       "      <td>0.210</td>\n",
       "      <td>0.191</td>\n",
       "      <td>0.351</td>\n",
       "      <td>H4</td>\n",
       "    </tr>\n",
       "  </tbody>\n",
       "</table>\n",
       "</div>"
      ],
      "text/plain": [
       "   肝气郁结证型系数  热毒蕴结证型系数  冲任失调证型系数  气血两虚证型系数  脾胃虚弱证型系数  肝肾阴虚证型系数 TNM分期\n",
       "0     0.056     0.460     0.281     0.352     0.119     0.350    H4\n",
       "1     0.488     0.099     0.283     0.333     0.116     0.293    H4\n",
       "2     0.107     0.008     0.204     0.150     0.032     0.159    H4\n",
       "3     0.322     0.208     0.305     0.130     0.184     0.317    H4\n",
       "4     0.242     0.280     0.131     0.210     0.191     0.351    H4"
      ]
     },
     "execution_count": 2,
     "metadata": {},
     "output_type": "execute_result"
    }
   ],
   "source": [
    "file = r'D:\\CS\\python for data\\chapter8\\demo\\data\\data.xls'\n",
    "df = pd.read_excel(file)\n",
    "del df['病程阶段']\n",
    "del df['转移部位']\n",
    "del df['确诊后几年发现转移']\n",
    "df[:5]"
   ]
  },
  {
   "cell_type": "code",
   "execution_count": 3,
   "metadata": {},
   "outputs": [
    {
     "data": {
      "text/html": [
       "<div>\n",
       "<style scoped>\n",
       "    .dataframe tbody tr th:only-of-type {\n",
       "        vertical-align: middle;\n",
       "    }\n",
       "\n",
       "    .dataframe tbody tr th {\n",
       "        vertical-align: top;\n",
       "    }\n",
       "\n",
       "    .dataframe thead th {\n",
       "        text-align: right;\n",
       "    }\n",
       "</style>\n",
       "<table border=\"1\" class=\"dataframe\">\n",
       "  <thead>\n",
       "    <tr style=\"text-align: right;\">\n",
       "      <th></th>\n",
       "      <th>肝气郁结证型系数范围</th>\n",
       "      <th>范围内样本个数</th>\n",
       "    </tr>\n",
       "  </thead>\n",
       "  <tbody>\n",
       "    <tr>\n",
       "      <th>A1</th>\n",
       "      <td>0.179</td>\n",
       "      <td>686</td>\n",
       "    </tr>\n",
       "    <tr>\n",
       "      <th>A2</th>\n",
       "      <td>0.258</td>\n",
       "      <td>331</td>\n",
       "    </tr>\n",
       "    <tr>\n",
       "      <th>A3</th>\n",
       "      <td>0.350</td>\n",
       "      <td>53</td>\n",
       "    </tr>\n",
       "    <tr>\n",
       "      <th>A4</th>\n",
       "      <td>0.504</td>\n",
       "      <td>0</td>\n",
       "    </tr>\n",
       "  </tbody>\n",
       "</table>\n",
       "</div>"
      ],
      "text/plain": [
       "    肝气郁结证型系数范围  范围内样本个数\n",
       "A1       0.179      686\n",
       "A2       0.258      331\n",
       "A3       0.350       53\n",
       "A4       0.504        0"
      ]
     },
     "execution_count": 3,
     "metadata": {},
     "output_type": "execute_result"
    }
   ],
   "source": [
    "ranges = [0.179, 0.258, 0.35, 0.504]\n",
    "numbers = []\n",
    "for i in range(4):\n",
    "    rows = df[df['肝气郁结证型系数'] > ranges[i]]\n",
    "    numbers.append(len(rows))\n",
    "\n",
    "scatter_data = pd.DataFrame({'肝气郁结证型系数范围': [0.179, 0.258, 0.35, 0.504],\n",
    "                            '范围内样本个数': numbers},\n",
    "                            index = ['A1','A2','A3','A4']\n",
    "                            )\n",
    "scatter_data"
   ]
  },
  {
   "cell_type": "code",
   "execution_count": 4,
   "metadata": {},
   "outputs": [
    {
     "name": "stderr",
     "output_type": "stream",
     "text": [
      "G:\\study\\Anaconda3\\lib\\site-packages\\ipykernel\\__main__.py:3: FutureWarning: Method .as_matrix will be removed in a future version. Use .values instead.\n",
      "  app.launch_new_instance()\n"
     ]
    },
    {
     "data": {
      "text/plain": [
       "array([[0.59310345],\n",
       "       [0.09745614],\n",
       "       [0.20962895],\n",
       "       [0.38680447]])"
      ]
     },
     "execution_count": 4,
     "metadata": {},
     "output_type": "execute_result"
    }
   ],
   "source": [
    "from sklearn.cluster import KMeans\n",
    "Kmodel = KMeans(n_clusters=4, n_jobs=4)\n",
    "Kmodel.fit(df[['热毒蕴结证型系数']].as_matrix())\n",
    "new_df = df['热毒蕴结证型系数'].copy()\n",
    "temp = pd.DataFrame(Kmodel.labels_) \n",
    "new_df = pd.concat([new_df, temp], axis=1)\n",
    "new_df.rename(columns={0:'等级'}, inplace=True)\n",
    "#new_df.columns = ['肝气郁结证型系数', '等级']\n",
    "Kmodel.cluster_centers_"
   ]
  },
  {
   "cell_type": "code",
   "execution_count": 5,
   "metadata": {},
   "outputs": [
    {
     "name": "stdout",
     "output_type": "stream",
     "text": [
      "正在进行“肝肾阴虚证型系数”的聚类...\n"
     ]
    },
    {
     "name": "stderr",
     "output_type": "stream",
     "text": [
      "G:\\study\\Anaconda3\\lib\\site-packages\\ipykernel\\__main__.py:27: FutureWarning: Method .as_matrix will be removed in a future version. Use .values instead.\n",
      "G:\\study\\Anaconda3\\lib\\site-packages\\ipykernel\\__main__.py:36: SettingWithCopyWarning: \n",
      "A value is trying to be set on a copy of a slice from a DataFrame\n",
      "\n",
      "See the caveats in the documentation: http://pandas.pydata.org/pandas-docs/stable/indexing.html#indexing-view-versus-copy\n"
     ]
    },
    {
     "name": "stdout",
     "output_type": "stream",
     "text": [
      "正在进行“气血两虚证型系数”的聚类...\n",
      "正在进行“肝气郁结证型系数”的聚类...\n",
      "正在进行“热毒蕴结证型系数”的聚类...\n",
      "正在进行“冲任失调证型系数”的聚类...\n",
      "正在进行“脾胃虚弱证型系数”的聚类...\n",
      "        1           2           3           4\n",
      "A     0.0    0.178698    0.257724    0.351843\n",
      "An  240.0  356.000000  281.000000   53.000000\n",
      "B     0.0    0.147818    0.284702    0.450267\n",
      "Bn  316.0  391.000000  169.000000   54.000000\n",
      "C     0.0    0.202149    0.289061    0.423537\n",
      "Cn  297.0  394.000000  204.000000   35.000000\n",
      "D     0.0    0.172049    0.251583    0.359353\n",
      "Dn  283.0  375.000000  228.000000   44.000000\n",
      "E     0.0    0.153398    0.258200    0.376062\n",
      "En  278.0  314.000000  245.000000   93.000000\n",
      "F     0.0    0.179143    0.261386    0.354643\n",
      "Fn  200.0  237.000000  265.000000  228.000000\n"
     ]
    }
   ],
   "source": [
    "#-*- coding: utf-8 -*-\n",
    "'''\n",
    "聚类离散化，最后的result的格式为：\n",
    "      1           2           3           4\n",
    "A     0    0.178698    0.257724    0.351843\n",
    "An  240  356.000000  281.000000   53.000000\n",
    "即(0, 0.178698]有240个，(0.178698, 0.257724]有356个，依此类推。\n",
    "'''\n",
    "from __future__ import print_function\n",
    "import pandas as pd\n",
    "from sklearn.cluster import KMeans #导入K均值聚类算法\n",
    "\n",
    "datafile = r'D:\\CS\\python for data\\chapter8\\demo\\data\\data.xls' #待聚类的数据文件\n",
    "typelabel ={u'肝气郁结证型系数':'A', u'热毒蕴结证型系数':'B', u'冲任失调证型系数':'C', u'气血两虚证型系数':'D', u'脾胃虚弱证型系数':'E', u'肝肾阴虚证型系数':'F'}\n",
    "k = 4 #需要进行的聚类类别数\n",
    "\n",
    "#读取数据并进行聚类分析\n",
    "data = pd.read_excel(datafile) #读取数据\n",
    "keys = list(typelabel.keys())\n",
    "result = pd.DataFrame()\n",
    "\n",
    "if __name__ == '__main__': #判断是否主窗口运行，如果是将代码保存为.py后运行，则需要这句，如果直接复制到命令窗口运行，则不需要这句。\n",
    "    for i in range(len(keys)):\n",
    "        #调用k-means算法，进行聚类离散化\n",
    "        print(u'正在进行“%s”的聚类...' % keys[i])\n",
    "        kmodel = KMeans(n_clusters = k, n_jobs = 4) #n_jobs是并行数，一般等于CPU数较好\n",
    "        kmodel.fit(data[[keys[i]]].as_matrix()) #训练模型\n",
    "\n",
    "        r1 = pd.DataFrame(kmodel.cluster_centers_, columns = [typelabel[keys[i]]]) #聚类中心\n",
    "        r2 = pd.Series(kmodel.labels_).value_counts().sort_index()  #分类统计\n",
    "        r2 = pd.DataFrame(r2, columns = [typelabel[keys[i]]+'n']) #转为DataFrame，记录各个类别的数目\n",
    "        r = pd.concat([r1, r2], axis = 1).sort_values(by= typelabel[keys[i]])   #匹配聚类中心和类别数目\n",
    "        r.index = [1, 2, 3, 4]\n",
    "\n",
    "        r[typelabel[keys[i]]] = r[typelabel[keys[i]]].rolling(2).mean() #rolling_mean()用来计算相邻2列的均值，以此作为边界点。\n",
    "        r[typelabel[keys[i]]][1] = 0.0 #这两句代码将原来的聚类中心改为边界点。\n",
    "\n",
    "        result = result.append(r.T)\n",
    "        \n",
    "        result = result.sort_index() #以Index排序，即以A,B,C,D,E,F顺序排\n",
    "    \n",
    "    print(result)"
   ]
  }
 ],
 "metadata": {
  "kernelspec": {
   "display_name": "Python 3",
   "language": "python",
   "name": "python3"
  },
  "language_info": {
   "codemirror_mode": {
    "name": "ipython",
    "version": 3
   },
   "file_extension": ".py",
   "mimetype": "text/x-python",
   "name": "python",
   "nbconvert_exporter": "python",
   "pygments_lexer": "ipython3",
   "version": "3.6.5"
  }
 },
 "nbformat": 4,
 "nbformat_minor": 2
}
